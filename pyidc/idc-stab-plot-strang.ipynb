{
 "metadata": {
  "name": ""
 },
 "nbformat": 3,
 "nbformat_minor": 0,
 "worksheets": [
  {
   "cells": [
    {
     "cell_type": "code",
     "collapsed": false,
     "input": [
      "%pylab inline\n",
      "%load_ext autoreload\n",
      "%autoreload 2"
     ],
     "language": "python",
     "metadata": {},
     "outputs": [
      {
       "output_type": "stream",
       "stream": "stdout",
       "text": [
        "Populating the interactive namespace from numpy and matplotlib\n"
       ]
      }
     ],
     "prompt_number": 1
    },
    {
     "cell_type": "code",
     "collapsed": false,
     "input": [
      "import numpy as np\n",
      "from collections import namedtuple\n",
      "from utils import *\n",
      "from methods import *"
     ],
     "language": "python",
     "metadata": {},
     "outputs": [],
     "prompt_number": 2
    },
    {
     "cell_type": "code",
     "collapsed": false,
     "input": [
      "#M = IDCBESTR\n",
      "M = make_method(IDCSTR, be)\n",
      "t_rng = (0, 1.)\n",
      "n_points = 10\n",
      "h = (t_rng[1] - t_rng[0])/float(n_points-1)\n",
      "a_range = np.linspace(-1500, 20, 200)/3\n",
      "b_range = np.linspace(-800, 800, 200)/3\n",
      "\n",
      "l_vals = [[complex(a, b)/2 for a in a_range] for b in b_range]\n",
      "l_vals = np.array(l_vals).flatten()\n",
      "ps = ProblemSetup(np.ones(len(l_vals)).astype(np.complex), \n",
      "                  t_rng, n_points)\n",
      "\n",
      "z_vals = l_vals\n",
      "re = np.real(z_vals); im = np.imag(z_vals)\n",
      "\n",
      "f = SplitFunction(lambda t, y: l_vals*y, lambda t, y: l_vals*y)\n",
      "m = M(f, ps, np.complex)\n",
      "m.predict()\n",
      "ev  = []\n",
      "for i in range(3):\n",
      "    m.correct()\n",
      "    ev += [m.eta.copy()]\n",
      "    \n",
      "stab = [np.abs(eta[-1]) <= 1 for eta in ev]"
     ],
     "language": "python",
     "metadata": {},
     "outputs": [
      {
       "output_type": "stream",
       "stream": "stderr",
       "text": [
        "/usr/lib/python2.7/dist-packages/scipy/optimize/minpack.py:512: RuntimeWarning: divide by zero encountered in divide\n",
        "  p = where(d == 0, p2, p0 - (p1 - p0)*(p1 - p0) / d)\n",
        "/usr/lib/python2.7/dist-packages/scipy/optimize/minpack.py:512: RuntimeWarning: invalid value encountered in divide\n",
        "  p = where(d == 0, p2, p0 - (p1 - p0)*(p1 - p0) / d)\n",
        "/usr/lib/python2.7/dist-packages/scipy/optimize/minpack.py:513: RuntimeWarning: divide by zero encountered in divide\n",
        "  relerr = where(p0 == 0, p, (p-p0)/p0)\n"
       ]
      }
     ],
     "prompt_number": 3
    },
    {
     "cell_type": "code",
     "collapsed": false,
     "input": [
      "colors = ['b', 'r', 'g']\n",
      "for i in range(len(stab)):\n",
      "    scatter(re[stab[i]], im[stab[i]], marker='x', color=colors[i])"
     ],
     "language": "python",
     "metadata": {},
     "outputs": [
      {
       "metadata": {},
       "output_type": "display_data",
       "png": "[encoded data removed]",
       "text": [
        "<matplotlib.figure.Figure at 0x2bc65d0>"
       ]
      }
     ],
     "prompt_number": 4
    },
    {
     "cell_type": "code",
     "collapsed": false,
     "input": [],
     "language": "python",
     "metadata": {},
     "outputs": [],
     "prompt_number": 4
    }
   ],
   "metadata": {}
  }
 ]
}