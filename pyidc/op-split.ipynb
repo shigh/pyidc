{
 "metadata": {
  "name": "op-split"
 },
 "nbformat": 3,
 "nbformat_minor": 0,
 "worksheets": [
  {
   "cells": [
    {
     "cell_type": "code",
     "collapsed": false,
     "input": [
      "%pylab inline\n",
      "%load_ext autoreload\n",
      "%autoreload 2"
     ],
     "language": "python",
     "metadata": {},
     "outputs": [
      {
       "output_type": "stream",
       "stream": "stdout",
       "text": [
        "\n",
        "Welcome to pylab, a matplotlib-based Python environment [backend: module://IPython.zmq.pylab.backend_inline].\n",
        "For more information, type 'help(pylab)'.\n"
       ]
      }
     ],
     "prompt_number": 1
    },
    {
     "cell_type": "code",
     "collapsed": false,
     "input": [
      "import numpy as np\n",
      "from utils import *\n",
      "from methods import *\n",
      "from intmat import integration_matrix"
     ],
     "language": "python",
     "metadata": {},
     "outputs": [],
     "prompt_number": 2
    },
    {
     "cell_type": "code",
     "collapsed": false,
     "input": [
      "ps = ProblemSetup(1, (0, 1), 10)\n",
      "f  = SplitFunction(lambda t, y: y, lambda t, y: t)\n",
      "ex = lambda t: -1 + 2*np.exp(t) - t\n",
      "exv = map_f(ex, ps)"
     ],
     "language": "python",
     "metadata": {},
     "outputs": [],
     "prompt_number": 3
    },
    {
     "cell_type": "code",
     "collapsed": false,
     "input": [
      "ps = ProblemSetup(1, (1, 5), 30)\n",
      "f1 = lambda t, y: -.5*(- 1./t + t*y**2)\n",
      "f2 = lambda t, y: -1./t**2\n",
      "f  = SplitFunction(f1, f2)\n",
      "ex = lambda t: 1./t\n",
      "exv = map_f(ex, ps)"
     ],
     "language": "python",
     "metadata": {},
     "outputs": [],
     "prompt_number": 4
    },
    {
     "cell_type": "code",
     "collapsed": false,
     "input": [
      "ps = ProblemSetup(1, (0, 1), 10)\n",
      "f = SplitFunction(lambda t, y: .5*y, lambda t, y: .1*y)\n",
      "ex = lambda t: np.exp(.6*t)\n",
      "exv = map_f(ex, ps)"
     ],
     "language": "python",
     "metadata": {},
     "outputs": [],
     "prompt_number": 5
    },
    {
     "cell_type": "code",
     "collapsed": false,
     "input": [
      "SplitM = IDCFELT\n",
      "M      = IDCFE"
     ],
     "language": "python",
     "metadata": {},
     "outputs": [],
     "prompt_number": 6
    },
    {
     "cell_type": "code",
     "collapsed": false,
     "input": [
      "fe1 = SplitM(f, ps._replace(n_points=2**5)); fe1.predict()\n",
      "fe2 = SplitM(f, ps._replace(n_points=2**6)); fe2.predict()\n",
      "np.log2((fe1.eta[-1] - exv[-1])/(fe2.eta[-1] - exv[-1]))"
     ],
     "language": "python",
     "metadata": {},
     "outputs": [
      {
       "output_type": "pyout",
       "prompt_number": 7,
       "text": [
        "array([ 1.01854623])"
       ]
      }
     ],
     "prompt_number": 7
    },
    {
     "cell_type": "code",
     "collapsed": false,
     "input": [
      "lt = SplitM(f, ps); lt.predict()\n",
      "fe = M(f, ps); fe.predict()\n",
      "#plot(exv); plot(lt.eta); plot(fe.eta)"
     ],
     "language": "python",
     "metadata": {},
     "outputs": [],
     "prompt_number": 8
    },
    {
     "cell_type": "code",
     "collapsed": false,
     "input": [
      "lt = SplitM(f, ps); lt.predict(); lt.correct()\n",
      "fe = M(f, ps); fe.predict(); fe.correct()\n",
      "#plot(exv); plot(lt.eta); plot(fe.eta)"
     ],
     "language": "python",
     "metadata": {},
     "outputs": [],
     "prompt_number": 9
    },
    {
     "cell_type": "code",
     "collapsed": false,
     "input": [
      "pows = range(5,7)\n",
      "actual_order, errs = idc_order(f, ps, SplitM, 4, exv[-1], pows, True)\n",
      "#plot(pows, errs)\n",
      "actual_order"
     ],
     "language": "python",
     "metadata": {},
     "outputs": [
      {
       "output_type": "pyout",
       "prompt_number": 10,
       "text": [
        "array([ 4.08858959])"
       ]
      }
     ],
     "prompt_number": 10
    },
    {
     "cell_type": "code",
     "collapsed": false,
     "input": [],
     "language": "python",
     "metadata": {},
     "outputs": [],
     "prompt_number": 10
    }
   ],
   "metadata": {}
  }
 ]
}