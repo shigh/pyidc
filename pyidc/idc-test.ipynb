{
 "metadata": {
  "name": "idc-test"
 },
 "nbformat": 3,
 "nbformat_minor": 0,
 "worksheets": [
  {
   "cells": [
    {
     "cell_type": "code",
     "collapsed": false,
     "input": [
      "%pylab inline\n",
      "%load_ext autoreload\n",
      "%autoreload 2"
     ],
     "language": "python",
     "metadata": {},
     "outputs": [
      {
       "output_type": "stream",
       "stream": "stdout",
       "text": [
        "\n",
        "Welcome to pylab, a matplotlib-based Python environment [backend: module://IPython.zmq.pylab.backend_inline].\n",
        "For more information, type 'help(pylab)'.\n"
       ]
      }
     ],
     "prompt_number": 1
    },
    {
     "cell_type": "code",
     "collapsed": false,
     "input": [
      "import numpy as np\n",
      "from collections import namedtuple\n",
      "from utils import *\n",
      "from methods import *\n",
      "from solvers import *"
     ],
     "language": "python",
     "metadata": {},
     "outputs": [],
     "prompt_number": 2
    },
    {
     "cell_type": "code",
     "collapsed": false,
     "input": [
      "pows = range(5,7)\n",
      "ps = ProblemSetup(1, (0, 1), 10)\n",
      "l = -.5\n",
      "f = lambda t, y: l*y\n",
      "ex = lambda t: exp(l*t)\n",
      "exv = map_f(ex, ps)\n",
      "actual = exv[-1]\n",
      "actual"
     ],
     "language": "python",
     "metadata": {},
     "outputs": [
      {
       "output_type": "pyout",
       "prompt_number": 3,
       "text": [
        "array([ 0.60653066])"
       ]
      }
     ],
     "prompt_number": 3
    },
    {
     "cell_type": "code",
     "collapsed": false,
     "input": [
      "actual_order, errs = idc_order(f, ps, IDCBE, 4, actual, pows, True)\n",
      "print actual_order; #plot(errs)"
     ],
     "language": "python",
     "metadata": {},
     "outputs": [
      {
       "output_type": "stream",
       "stream": "stderr",
       "text": [
        "/usr/lib/python2.7/dist-packages/scipy/optimize/minpack.py:512: RuntimeWarning: invalid value encountered in divide\n",
        "  p = where(d == 0, p2, p0 - (p1 - p0)*(p1 - p0) / d)\n",
        "/usr/lib/python2.7/dist-packages/scipy/optimize/minpack.py:513: RuntimeWarning: divide by zero encountered in divide\n",
        "  relerr = where(p0 == 0, p, (p-p0)/p0)\n"
       ]
      },
      {
       "output_type": "stream",
       "stream": "stdout",
       "text": [
        "[ 4.0515942]\n"
       ]
      }
     ],
     "prompt_number": 4
    },
    {
     "cell_type": "code",
     "collapsed": false,
     "input": [
      "actual_order, errs = idc_order(f, ps, IDCFE, 4, actual, pows, True)\n",
      "print actual_order; #plot(errs)"
     ],
     "language": "python",
     "metadata": {},
     "outputs": [
      {
       "output_type": "stream",
       "stream": "stdout",
       "text": [
        "[ 4.08804791]\n"
       ]
      }
     ],
     "prompt_number": 5
    },
    {
     "cell_type": "code",
     "collapsed": false,
     "input": [],
     "language": "python",
     "metadata": {},
     "outputs": [],
     "prompt_number": 5
    }
   ],
   "metadata": {}
  }
 ]
}